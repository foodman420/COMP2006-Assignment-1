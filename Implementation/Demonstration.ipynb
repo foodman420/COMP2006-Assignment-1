{
 "cells": [
  {
   "cell_type": "markdown",
   "metadata": {},
   "source": [
    "# Cryptographic protocol demonstration\n",
    "## Installing libraries\n",
    "pip install pycryptodome\n",
    "pip install cryptography"
   ]
  },
  {
   "cell_type": "code",
   "execution_count": 94,
   "metadata": {},
   "outputs": [],
   "source": [
    "from cryptography.hazmat.primitives import hashes\n",
    "from cryptography.hazmat.primitives.asymmetric import padding, rsa\n",
    "from cryptography.hazmat.primitives import serialization\n",
    "from cryptography.hazmat.primitives.asymmetric import utils\n",
    "from cryptography.exceptions import InvalidSignature\n",
    "from cryptography.hazmat.backends import default_backend\n",
    "\n",
    "from Crypto.Cipher import PKCS1_OAEP\n",
    "\n",
    "import time\n",
    "import secrets\n",
    "import hashlib\n",
    "from datetime import datetime"
   ]
  },
  {
   "cell_type": "code",
   "execution_count": 95,
   "metadata": {},
   "outputs": [],
   "source": [
    "message = \"The company website has not limited the number of transactions a single user or device can perform in a given period of time. The transactions/time should be above the actual business requirement, but low enough to deter automated attacks\""
   ]
  },
  {
   "cell_type": "code",
   "execution_count": 96,
   "metadata": {},
   "outputs": [
    {
     "name": "stdout",
     "output_type": "stream",
     "text": [
      "Timestamp: 1710087696\n"
     ]
    }
   ],
   "source": [
    "# Creates a timestamp using the current time in seconds in Unix format\n",
    "timestamp = int(time.time())\n",
    "print(f\"Timestamp: {timestamp}\")"
   ]
  },
  {
   "cell_type": "code",
   "execution_count": 97,
   "metadata": {},
   "outputs": [
    {
     "name": "stdout",
     "output_type": "stream",
     "text": [
      "Nonce (hex): afcd8d0d6d387866879d303001815b74\n"
     ]
    }
   ],
   "source": [
    "# Generate a nonce as a 32-character hex string\n",
    "nonce_hex = secrets.token_hex(16)  \n",
    "print(f\"Nonce (hex): {nonce_hex}\")\n",
    "\n",
    "nonce_storage = []"
   ]
  },
  {
   "cell_type": "code",
   "execution_count": 98,
   "metadata": {},
   "outputs": [
    {
     "name": "stdout",
     "output_type": "stream",
     "text": [
      "Combined string: afcd8d0d6d387866879d303001815b74:1710087696:The company website has not limited the number of transactions a single user or device can perform in a given period of time. The transactions/time should be above the actual business requirement, but low enough to deter automated attacks\n"
     ]
    }
   ],
   "source": [
    "# Concatenate with a delimiter (:)\n",
    "combined = f\"{nonce_hex}:{timestamp}:{message}\"\n",
    "print(\"Combined string:\", combined)"
   ]
  },
  {
   "cell_type": "code",
   "execution_count": 99,
   "metadata": {},
   "outputs": [
    {
     "name": "stdout",
     "output_type": "stream",
     "text": [
      "SHA-256 Hash: 50d9203948a8847d90f9aa25476d11b258f5b6eeef3af4385fd6f5cf6e625573\n"
     ]
    }
   ],
   "source": [
    "# Encode the combined string to bytes, then hash it using SHA-256\n",
    "hashed = hashlib.sha256(combined.encode()).hexdigest()\n",
    "\n",
    "print(\"SHA-256 Hash:\", hashed)"
   ]
  },
  {
   "cell_type": "code",
   "execution_count": 100,
   "metadata": {},
   "outputs": [],
   "source": [
    "def generate_rsa_keys():\n",
    "    \"\"\"\n",
    "    Generates an RSA private and public key pair.\n",
    "    \n",
    "    The public_exponent is set to 65537, which is a common choice for RSA encryption.\n",
    "    It's a prime number that ensures efficiency and security in the encryption process.\n",
    "    The key size of 2048 bits is selected to provide a good balance between security and performance,\n",
    "    making it sufficiently secure for most applications.\n",
    "    \n",
    "    Returns:\n",
    "        A tuple containing the RSA private key and public key.\n",
    "    \"\"\"\n",
    "    # Generate the private key with specified parameters\n",
    "    private_key = rsa.generate_private_key(\n",
    "        public_exponent=65537,  # Commonly used public exponent\n",
    "        key_size=2048,         # Key size of 2048 bits\n",
    "        backend=default_backend()  # Use the default cryptographic backend\n",
    "    )\n",
    "    # Derive the public key from the private key\n",
    "    public_key = private_key.public_key()\n",
    "    \n",
    "    return private_key, public_key\n",
    "\n",
    "def serialize_rsa_keys(private_key, public_key):\n",
    "    \"\"\"\n",
    "    Serializes the RSA private and public keys to PEM format for storage or transmission.\n",
    "    \n",
    "    PEM format is a Base64 encoded message with header and footer to mark the beginning\n",
    "    and end of the key material, making it suitable for text-based transmission.\n",
    "    \n",
    "    Args:\n",
    "        private_key: The RSA private key to be serialized.\n",
    "        public_key: The RSA public key to be serialized.\n",
    "    \n",
    "    Returns:\n",
    "        A tuple containing the serialized private and public keys in PEM format.\n",
    "    \"\"\"\n",
    "    # Serialize the private key to PEM format without encryption\n",
    "    pem_private_key = private_key.private_bytes(\n",
    "        encoding=serialization.Encoding.PEM,\n",
    "        format=serialization.PrivateFormat.PKCS8,\n",
    "        encryption_algorithm=serialization.NoEncryption()  # Indicates no encryption\n",
    "    )\n",
    "    \n",
    "    # Serialize the public key to PEM format\n",
    "    pem_public_key = public_key.public_bytes(\n",
    "        encoding=serialization.Encoding.PEM,\n",
    "        format=serialization.PublicFormat.SubjectPublicKeyInfo\n",
    "    )\n",
    "    \n",
    "    return pem_private_key, pem_public_key\n",
    "\n",
    "def sign_data_with_private_key(private_key, hashed):\n",
    "    \"\"\"\n",
    "    Signs hashed data using the RSA private key.\n",
    "    \n",
    "    This function uses PSS (Probabilistic Signature Scheme) padding, which is recommended\n",
    "    for new applications due to its security properties. The SHA-256 hash function is used\n",
    "    for hashing the data, providing a strong level of integrity.\n",
    "    \n",
    "    Args:\n",
    "        private_key: The RSA private key used for signing.\n",
    "        hashed: The hashed data to be signed, typically the output of a secure hash function.\n",
    "    \n",
    "    Returns:\n",
    "        The digital signature of the hashed data.\n",
    "    \"\"\"\n",
    "    # Sign the hashed data with the private key using PSS padding and SHA-256\n",
    "    signature = private_key.sign(\n",
    "        hashed,\n",
    "        padding.PSS(\n",
    "            mgf=padding.MGF1(hashes.SHA256()),  # Mask Generation Function\n",
    "            salt_length=padding.PSS.MAX_LENGTH  # Maximum salt length\n",
    "        ),\n",
    "        hashes.SHA256()  # Hash function for signing\n",
    "    )\n",
    "    \n",
    "    return signature"
   ]
  },
  {
   "cell_type": "code",
   "execution_count": 101,
   "metadata": {},
   "outputs": [],
   "source": [
    "alice_private_key, alice_public_key = generate_rsa_keys()\n",
    "\n",
    "pem_private_key, pem_public_key = serialize_rsa_keys(alice_private_key, alice_public_key)\n",
    "\n",
    "signature = sign_data_with_private_key(alice_private_key, hashed.encode())"
   ]
  },
  {
   "cell_type": "code",
   "execution_count": 102,
   "metadata": {},
   "outputs": [
    {
     "name": "stdout",
     "output_type": "stream",
     "text": [
      "{'message': 'afcd8d0d6d387866879d303001815b74:1710087696:The company website has not limited the number of transactions a single user or device can perform in a given period of time. The transactions/time should be above the actual business requirement, but low enough to deter automated attacks', 'signature': b'0y\\xb1\\x83\\xdf\\x13\\xd5\\x18$\\x02\\xcaT8\\x11\\xa1O\\xb4\\x8f|fb\\xe7b,\\xdbj\\xec\\xe3nW\\t?1\\xa3\\xa9<\\x82\\xb0^l\\xe1\\xf1/;e\\x885\\x7f\\xa8\\x08\\x0f*\\xe2&\\xaa\\x9dmZ\\x821;\\xdbzW+_8\\xbfVo\\x18\\x9a\\xd2\\xdf\\x81G|\\x0c\"\\x80\\x08\\xd5\\x00\\xb7m\\xb5[\\x85\\x81\\xcb\\xea\\xa3jI\\xdb\\xb43R\\xbc\\x82\\xd5P&RW\\xaf5a\\xc1Y\\xda\\n)Eh\\xb7\\x1a\\xd2\\x92\\x0ftC\\xc0\\n\\x9a\\xb0\\x1e\\x10\\x97Y\\xc5\\xe3\\xb6\\xfa\\x91\\xda\\xa82\\x0b\\xa5\\xc2\\x0b\\xd7r\\xa5\\xe3\\xa5\\t>x\\xdc\\xe7@]\\x94\\x00-\\x89\\xf4\\xb1C9\\xf7\\x98\\x89\\xe8\\xef\\xe0><e\\x81B\\xd2\\xa2\\x87\\x17\\xfd\\xc6\\xfe`\\xb9\\xcd~\\x08\\x87RL\\r7v\\xf3\\xbf\\xc8\\xdd\\x005\\x9c\\x00Gk\\xa9\\xde7\\x8c\\x84\\x82\\xee\\xf5g\\xae\\xdf\\xfe\\x17\\xcf\\x17\\xb8;V\\xb8\\xe3N:\\x0e\\xacxz\\x88\\xe7P\\x01\\r%\\x0f\\xfe\\xf6=\\xeb\\xda\\xb8\\xb6494dZXC\\xb8\\xc2\\xc8?\\xdc\\xc0\\xedG'}\n"
     ]
    }
   ],
   "source": [
    "# Prepare the message for transmission\n",
    "transmission_data = {\n",
    "    'message': combined,\n",
    "    'signature': signature,\n",
    "    # 'encrypted_message': encrypted_message,  # If you chose to encrypt\n",
    "}\n",
    "\n",
    "# Simulate sending the data by outputting it\n",
    "print(transmission_data)"
   ]
  },
  {
   "cell_type": "code",
   "execution_count": 103,
   "metadata": {},
   "outputs": [],
   "source": [
    "def verify_signature(received_message, signature, public_key):\n",
    "    \"\"\"\n",
    "    Verifies the signature of the received message using the sender's public key.\n",
    "    \"\"\"\n",
    "    try:\n",
    "        public_key.verify(\n",
    "            signature,\n",
    "            received_message,\n",
    "            padding.PSS(\n",
    "                mgf=padding.MGF1(hashes.SHA256()),\n",
    "                salt_length=padding.PSS.MAX_LENGTH\n",
    "            ),\n",
    "            hashes.SHA256()\n",
    "        )\n",
    "        return True\n",
    "    except InvalidSignature:\n",
    "        return False"
   ]
  },
  {
   "cell_type": "code",
   "execution_count": 104,
   "metadata": {},
   "outputs": [],
   "source": [
    "def is_within_time_window(received_timestamp, window=300):\n",
    "    current_time = int(time.time())\n",
    "    return current_time - received_timestamp <= window"
   ]
  },
  {
   "cell_type": "code",
   "execution_count": 105,
   "metadata": {},
   "outputs": [],
   "source": [
    "def is_nonce_unique(nonce, nonce_storage):\n",
    "    if nonce in nonce_storage:\n",
    "        return False  # Nonce is not unique, message should be rejected\n",
    "    else:\n",
    "        # Add the nonce to the storage to keep track of it for future messages\n",
    "        nonce_storage.append(nonce)\n",
    "        return True  # Nonce is unique, message can be processed"
   ]
  },
  {
   "cell_type": "code",
   "execution_count": 106,
   "metadata": {},
   "outputs": [
    {
     "name": "stdout",
     "output_type": "stream",
     "text": [
      "Signature verification result: True\n",
      "Timestamp verification result: True\n",
      "Nonce verification result: True\n"
     ]
    }
   ],
   "source": [
    "# Simulated received data that Bob recieves from Alice\n",
    "received_data = transmission_data \n",
    "\n",
    "# Verify the signature of the received message\n",
    "received_hashed_message = hashlib.sha256(received_data['message'].encode()).hexdigest()\n",
    "verification_result = verify_signature(received_hashed_message.encode(), received_data['signature'], alice_public_key)\n",
    "\n",
    "# Extract the timestamp from the received message\n",
    "received_message = received_data['message']\n",
    "nonce, received_timestamp_str, _ = received_message.split(':', 2)\n",
    "received_timestamp = int(received_timestamp_str)\n",
    "\n",
    "# Check if the received timestamp is within the allowed window\n",
    "timestamp_verification_result = is_within_time_window(received_timestamp)\n",
    "\n",
    "#Extract the nonce from the received message\n",
    "nonce = received_data['message'].split(':', 1)[0] \n",
    "# Check if the nonce is unique\n",
    "nonce_verification_result = is_nonce_unique(nonce, nonce_storage)\n",
    "\n",
    "print(f\"Signature verification result: {verification_result}\")\n",
    "print(f\"Timestamp verification result: {timestamp_verification_result}\")\n",
    "print(f\"Nonce verification result: {nonce_verification_result}\")\n",
    "\n",
    "\n",
    "\n",
    "\n"
   ]
  },
  {
   "cell_type": "code",
   "execution_count": 107,
   "metadata": {},
   "outputs": [
    {
     "name": "stdout",
     "output_type": "stream",
     "text": [
      "The message is authentic, unique, and within the time window.\n",
      "Nonce: afcd8d0d6d387866879d303001815b74\n",
      "Readable Timestamp: 2024-03-10 16:21:36\n",
      "Message: The company website has not limited the number of transactions a single user or device can perform in a given period of time. The transactions/time should be above the actual business requirement, but low enough to deter automated attacks\n"
     ]
    }
   ],
   "source": [
    "received_message = received_data['message']\n",
    "\n",
    "parts = received_message.split(':')\n",
    "nonce = parts[0]\n",
    "timestamp_str = parts[1]\n",
    "actual_message = ':'.join(parts[2:])  # Join back the rest of the message in case there are semi-colons in it\n",
    "\n",
    "# Convert the timestamp string to an integer\n",
    "timestamp = int(timestamp_str)\n",
    "\n",
    "# Convert the timestamp to a readable date format\n",
    "dt_object = datetime.fromtimestamp(timestamp)\n",
    "readable_date = dt_object.strftime('%Y-%m-%d %H:%M:%S')\n",
    "\n",
    "if verification_result:\n",
    "    if timestamp_verification_result:\n",
    "        if nonce_verification_result:\n",
    "            print(\"The message is authentic, unique, and within the time window.\")\n",
    "            print(f\"Nonce: {nonce}\")\n",
    "            print(f\"Readable Timestamp: {readable_date}\")\n",
    "            print(f\"Message: {actual_message}\")\n",
    "        else:\n",
    "            print(\"The message failed verification: The nonce has already been used.\")\n",
    "    else:\n",
    "        print(\"The message failed verification: The timestamp is outside the acceptable window.\")\n",
    "else:\n",
    "    print(\"The message failed verification: The digital signature does not match.\")\n"
   ]
  },
  {
   "cell_type": "code",
   "execution_count": 108,
   "metadata": {},
   "outputs": [
    {
     "name": "stdout",
     "output_type": "stream",
     "text": [
      "['afcd8d0d6d387866879d303001815b74']\n"
     ]
    }
   ],
   "source": [
    "print(f\"{nonce_storage}\")"
   ]
  }
 ],
 "metadata": {
  "kernelspec": {
   "display_name": "Python 3",
   "language": "python",
   "name": "python3"
  },
  "language_info": {
   "codemirror_mode": {
    "name": "ipython",
    "version": 3
   },
   "file_extension": ".py",
   "mimetype": "text/x-python",
   "name": "python",
   "nbconvert_exporter": "python",
   "pygments_lexer": "ipython3",
   "version": "3.11.5"
  }
 },
 "nbformat": 4,
 "nbformat_minor": 2
}
