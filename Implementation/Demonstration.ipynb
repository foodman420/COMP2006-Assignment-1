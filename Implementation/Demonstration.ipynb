{
 "cells": [
  {
   "cell_type": "code",
   "execution_count": 17,
   "metadata": {},
   "outputs": [],
   "source": [
    "from cryptography.hazmat.primitives import hashes\n",
    "from cryptography.hazmat.primitives.asymmetric import padding, rsa\n",
    "from cryptography.hazmat.primitives import serialization\n",
    "from cryptography.hazmat.primitives.asymmetric import utils\n",
    "from cryptography.exceptions import InvalidSignature\n",
    "import time\n",
    "import secrets\n",
    "import hashlib"
   ]
  },
  {
   "cell_type": "code",
   "execution_count": 18,
   "metadata": {},
   "outputs": [],
   "source": [
    "message = \"The company website has not limited the number of transactions a single user or device can perform in a given period of time. The transactions/time should be above the actual business requirement, but low enough to deter automated attacks\""
   ]
  },
  {
   "cell_type": "code",
   "execution_count": 19,
   "metadata": {},
   "outputs": [
    {
     "name": "stdout",
     "output_type": "stream",
     "text": [
      "Timestamp: 1708268105\n"
     ]
    }
   ],
   "source": [
    "# Current time in seconds since the Unix epoch\n",
    "timestamp = int(time.time())\n",
    "print(f\"Timestamp: {timestamp}\")"
   ]
  },
  {
   "cell_type": "code",
   "execution_count": 20,
   "metadata": {},
   "outputs": [
    {
     "name": "stdout",
     "output_type": "stream",
     "text": [
      "Nonce (hex): b3e336849a28fbd799514427eccc2706\n"
     ]
    }
   ],
   "source": [
    "# Generate a nonce as a hex string\n",
    "nonce_hex = secrets.token_hex(16)  # Generates a 32-character hexadecimal string\n",
    "print(f\"Nonce (hex): {nonce_hex}\")"
   ]
  },
  {
   "cell_type": "code",
   "execution_count": 21,
   "metadata": {},
   "outputs": [
    {
     "name": "stdout",
     "output_type": "stream",
     "text": [
      "Combined string: b3e336849a28fbd799514427eccc2706:1708268105:The company website has not limited the number of transactions a single user or device can perform in a given period of time. The transactions/time should be above the actual business requirement, but low enough to deter automated attacks\n"
     ]
    }
   ],
   "source": [
    "# Concatenate with a delimiter\n",
    "combined = f\"{nonce_hex}:{timestamp}:{message}\"\n",
    "print(\"Combined string:\", combined)"
   ]
  },
  {
   "cell_type": "code",
   "execution_count": 22,
   "metadata": {},
   "outputs": [
    {
     "name": "stdout",
     "output_type": "stream",
     "text": [
      "SHA-256 Hash: e8005ebd0672593ac1306051fbb0f5298c502c1f10f0b2c66245b083147056fb\n"
     ]
    }
   ],
   "source": [
    "# Encode the combined string to bytes, then hash it using SHA-256\n",
    "hashed = hashlib.sha256(combined.encode()).hexdigest()\n",
    "\n",
    "print(\"SHA-256 Hash:\", hashed)"
   ]
  },
  {
   "cell_type": "code",
   "execution_count": 29,
   "metadata": {},
   "outputs": [],
   "source": [
    "def generate_rsa_keys():\n",
    "    \"\"\"\n",
    "    Generates an RSA private and public key pair.\n",
    "    \"\"\"\n",
    "    private_key = rsa.generate_private_key(\n",
    "        public_exponent=65537,\n",
    "        key_size=2048,\n",
    "        backend=default_backend()\n",
    "    )\n",
    "    public_key = private_key.public_key()\n",
    "    return private_key, public_key\n",
    "\n",
    "def serialize_rsa_keys(private_key, public_key):\n",
    "    \"\"\"\n",
    "    Serializes the RSA private and public keys to PEM format.\n",
    "    \"\"\"\n",
    "    pem_private_key = private_key.private_bytes(\n",
    "        encoding=serialization.Encoding.PEM,\n",
    "        format=serialization.PrivateFormat.PKCS8,\n",
    "        encryption_algorithm=serialization.NoEncryption()  # Use BestAvailableEncryption(password) for encrypted serialization\n",
    "    )\n",
    "    \n",
    "    pem_public_key = public_key.public_bytes(\n",
    "        encoding=serialization.Encoding.PEM,\n",
    "        format=serialization.PublicFormat.SubjectPublicKeyInfo\n",
    "    )\n",
    "    \n",
    "    return pem_private_key, pem_public_key\n",
    "\n",
    "def sign_data_with_private_key(private_key, data_to_sign):\n",
    "    \"\"\"\n",
    "    Signs data using the RSA private key.\n",
    "    \"\"\"\n",
    "    signature = private_key.sign(\n",
    "        data_to_sign,\n",
    "        padding.PSS(\n",
    "            mgf=padding.MGF1(hashes.SHA256()),\n",
    "            salt_length=padding.PSS.MAX_LENGTH\n",
    "        ),\n",
    "        hashes.SHA256()\n",
    "    )\n",
    "    return signature\n"
   ]
  }
 ],
 "metadata": {
  "kernelspec": {
   "display_name": "Python 3",
   "language": "python",
   "name": "python3"
  },
  "language_info": {
   "codemirror_mode": {
    "name": "ipython",
    "version": 3
   },
   "file_extension": ".py",
   "mimetype": "text/x-python",
   "name": "python",
   "nbconvert_exporter": "python",
   "pygments_lexer": "ipython3",
   "version": "3.11.5"
  }
 },
 "nbformat": 4,
 "nbformat_minor": 2
}
