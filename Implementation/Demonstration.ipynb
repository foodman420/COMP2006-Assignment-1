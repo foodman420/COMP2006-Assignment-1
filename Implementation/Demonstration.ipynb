{
 "cells": [
  {
   "cell_type": "code",
   "execution_count": 6,
   "metadata": {},
   "outputs": [],
   "source": [
    "from cryptography.hazmat.primitives import hashes\n",
    "from cryptography.hazmat.primitives.asymmetric import padding, rsa\n",
    "from cryptography.hazmat.primitives import serialization\n",
    "from cryptography.hazmat.primitives.asymmetric import utils\n",
    "from cryptography.exceptions import InvalidSignature\n",
    "import time\n",
    "import secrets\n",
    "import hashlib"
   ]
  },
  {
   "cell_type": "code",
   "execution_count": 7,
   "metadata": {},
   "outputs": [],
   "source": [
    "message = \"The company website has not limited the number of transactions a single user or device can perform in a given period of time. The transactions/time should be above the actual business requirement, but low enough to deter automated attacks\""
   ]
  },
  {
   "cell_type": "code",
   "execution_count": 8,
   "metadata": {},
   "outputs": [
    {
     "name": "stdout",
     "output_type": "stream",
     "text": [
      "Timestamp: 1708267446\n"
     ]
    }
   ],
   "source": [
    "# Current time in seconds since the Unix epoch\n",
    "timestamp = int(time.time())\n",
    "print(f\"Timestamp: {timestamp}\")"
   ]
  },
  {
   "cell_type": "code",
   "execution_count": 9,
   "metadata": {},
   "outputs": [
    {
     "name": "stdout",
     "output_type": "stream",
     "text": [
      "Nonce (hex): 0559ec29f557d82cbbe4d3e409571b6c\n"
     ]
    }
   ],
   "source": [
    "# Generate a nonce as a hex string\n",
    "nonce_hex = secrets.token_hex(16)  # Generates a 32-character hexadecimal string\n",
    "print(f\"Nonce (hex): {nonce_hex}\")"
   ]
  },
  {
   "cell_type": "code",
   "execution_count": 10,
   "metadata": {},
   "outputs": [
    {
     "name": "stdout",
     "output_type": "stream",
     "text": [
      "Combined string: 0559ec29f557d82cbbe4d3e409571b6c:1708267446:The company website has not limited the number of transactions a single user or device can perform in a given period of time. The transactions/time should be above the actual business requirement, but low enough to deter automated attacks\n"
     ]
    }
   ],
   "source": [
    "# Concatenate with a delimiter\n",
    "combined = f\"{nonce_hex}:{timestamp}:{message}\"\n",
    "print(\"Combined string:\", combined)"
   ]
  },
  {
   "cell_type": "code",
   "execution_count": 11,
   "metadata": {},
   "outputs": [
    {
     "name": "stdout",
     "output_type": "stream",
     "text": [
      "SHA-256 Hash: 2ccb6b6161d1af5197f281b1052b04d5d3337acb1df54e5c04e3903667001a6e\n"
     ]
    }
   ],
   "source": [
    "# Encode the combined string to bytes, then hash it using SHA-256\n",
    "hashed = hashlib.sha256(combined.encode()).hexdigest()\n",
    "\n",
    "print(\"SHA-256 Hash:\", hashed)"
   ]
  },
  {
   "cell_type": "code",
   "execution_count": 14,
   "metadata": {},
   "outputs": [],
   "source": [
    "# Function to generate private and public key for a user\n",
    "def generate_keys():\n",
    "    private_key = rsa.generate_private_key(public_exponent=65537, key_size=2048)\n",
    "    public_key = private_key.public_key()\n",
    "    return private_key, public_key\n",
    "\n",
    "def serialize_keys(private_key, public_key):\n",
    "    # Serialize the private key to PEM format\n",
    "    pem_private_key = private_key.private_bytes(\n",
    "        encoding=serialization.Encoding.PEM,\n",
    "        format=serialization.PrivateFormat.PKCS8,\n",
    "        encryption_algorithm=serialization.NoEncryption()  # Or use BestAvailableEncryption for encryption\n",
    "    )\n",
    "    \n",
    "    # Serialize the public key to PEM format\n",
    "    pem_public_key = public_key.public_bytes(\n",
    "        encoding=serialization.Encoding.PEM,\n",
    "        format=serialization.PublicFormat.SubjectPublicKeyInfo\n",
    "    )\n",
    "    \n",
    "    return pem_private_key, pem_public_key\n",
    "\n",
    "def sign_message(private_key, hashed):\n",
    "    signature = private_key.sign(\n",
    "        hashed,\n",
    "        padding.PSS(\n",
    "            mgf=padding.MGF1(hashes.SHA256()),\n",
    "            salt_length=padding.PSS.MAX_LENGTH\n",
    "        ),\n",
    "        hashes.SHA256()\n",
    "    )\n",
    "    return signature"
   ]
  },
  {
   "cell_type": "code",
   "execution_count": 13,
   "metadata": {},
   "outputs": [
    {
     "ename": "NameError",
     "evalue": "name 'pem_private_key' is not defined",
     "output_type": "error",
     "traceback": [
      "\u001b[1;31m---------------------------------------------------------------------------\u001b[0m",
      "\u001b[1;31mNameError\u001b[0m                                 Traceback (most recent call last)",
      "Cell \u001b[1;32mIn[13], line 2\u001b[0m\n\u001b[0;32m      1\u001b[0m \u001b[38;5;66;03m# Sign the hash using the private key\u001b[39;00m\n\u001b[1;32m----> 2\u001b[0m signature \u001b[38;5;241m=\u001b[39m \u001b[43mpem_private_key\u001b[49m\u001b[38;5;241m.\u001b[39msign(\n\u001b[0;32m      3\u001b[0m     hashed,\n\u001b[0;32m      4\u001b[0m     padding\u001b[38;5;241m.\u001b[39mPSS(\n\u001b[0;32m      5\u001b[0m         mgf\u001b[38;5;241m=\u001b[39mpadding\u001b[38;5;241m.\u001b[39mMGF1(hashes\u001b[38;5;241m.\u001b[39mSHA256()),\n\u001b[0;32m      6\u001b[0m         salt_length\u001b[38;5;241m=\u001b[39mpadding\u001b[38;5;241m.\u001b[39mPSS\u001b[38;5;241m.\u001b[39mMAX_LENGTH\n\u001b[0;32m      7\u001b[0m     ),\n\u001b[0;32m      8\u001b[0m     hashes\u001b[38;5;241m.\u001b[39mSHA256()\n\u001b[0;32m      9\u001b[0m )\n",
      "\u001b[1;31mNameError\u001b[0m: name 'pem_private_key' is not defined"
     ]
    }
   ],
   "source": [
    "# Sign the hash using the private key\n",
    "signature = pem_private_key.sign(\n",
    "    hashed,\n",
    "    padding.PSS(\n",
    "        mgf=padding.MGF1(hashes.SHA256()),\n",
    "        salt_length=padding.PSS.MAX_LENGTH\n",
    "    ),\n",
    "    hashes.SHA256()\n",
    ")\n"
   ]
  }
 ],
 "metadata": {
  "kernelspec": {
   "display_name": "Python 3",
   "language": "python",
   "name": "python3"
  },
  "language_info": {
   "codemirror_mode": {
    "name": "ipython",
    "version": 3
   },
   "file_extension": ".py",
   "mimetype": "text/x-python",
   "name": "python",
   "nbconvert_exporter": "python",
   "pygments_lexer": "ipython3",
   "version": "3.11.5"
  }
 },
 "nbformat": 4,
 "nbformat_minor": 2
}
