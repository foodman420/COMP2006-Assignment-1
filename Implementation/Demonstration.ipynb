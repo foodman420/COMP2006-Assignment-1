{
 "cells": [
  {
   "cell_type": "code",
   "execution_count": 81,
   "metadata": {},
   "outputs": [],
   "source": [
    "#pip install pycryptodome\n",
    "#pip install cryptography"
   ]
  },
  {
   "cell_type": "code",
   "execution_count": 82,
   "metadata": {},
   "outputs": [],
   "source": [
    "from cryptography.hazmat.primitives import hashes\n",
    "from cryptography.hazmat.primitives.asymmetric import padding, rsa\n",
    "from cryptography.hazmat.primitives import serialization\n",
    "from cryptography.hazmat.primitives.asymmetric import utils\n",
    "from cryptography.exceptions import InvalidSignature\n",
    "from cryptography.hazmat.backends import default_backend\n",
    "from Crypto.Cipher import PKCS1_OAEP\n",
    "import time\n",
    "import secrets\n",
    "import hashlib\n",
    "from datetime import datetime"
   ]
  },
  {
   "cell_type": "code",
   "execution_count": 83,
   "metadata": {},
   "outputs": [],
   "source": [
    "message = \"The company website has not limited the number of transactions a single user or device can perform in a given period of time. The transactions/time should be above the actual business requirement, but low enough to deter automated attacks\""
   ]
  },
  {
   "cell_type": "code",
   "execution_count": 84,
   "metadata": {},
   "outputs": [
    {
     "name": "stdout",
     "output_type": "stream",
     "text": [
      "Timestamp: 1708879084\n"
     ]
    }
   ],
   "source": [
    "# Current time in seconds since the Unix epoch\n",
    "timestamp = int(time.time())\n",
    "print(f\"Timestamp: {timestamp}\")"
   ]
  },
  {
   "cell_type": "code",
   "execution_count": 85,
   "metadata": {},
   "outputs": [
    {
     "name": "stdout",
     "output_type": "stream",
     "text": [
      "Nonce (hex): 0a407794ce24d341a1d6b5f0632b48f3\n"
     ]
    }
   ],
   "source": [
    "# Generate a nonce as a hex string\n",
    "nonce_hex = secrets.token_hex(16)  # Generates a 32-character hexadecimal string\n",
    "print(f\"Nonce (hex): {nonce_hex}\")"
   ]
  },
  {
   "cell_type": "code",
   "execution_count": 86,
   "metadata": {},
   "outputs": [
    {
     "name": "stdout",
     "output_type": "stream",
     "text": [
      "Combined string: 0a407794ce24d341a1d6b5f0632b48f3:1708879084:The company website has not limited the number of transactions a single user or device can perform in a given period of time. The transactions/time should be above the actual business requirement, but low enough to deter automated attacks\n"
     ]
    }
   ],
   "source": [
    "# Concatenate with a delimiter\n",
    "combined = f\"{nonce_hex}:{timestamp}:{message}\"\n",
    "print(\"Combined string:\", combined)"
   ]
  },
  {
   "cell_type": "code",
   "execution_count": 87,
   "metadata": {},
   "outputs": [
    {
     "name": "stdout",
     "output_type": "stream",
     "text": [
      "SHA-256 Hash: fc7fc2f8b20cceba8ef031805d932ab631e069893f1fa19f7c21e300044b9123\n"
     ]
    }
   ],
   "source": [
    "# Encode the combined string to bytes, then hash it using SHA-256\n",
    "hashed = hashlib.sha256(combined.encode()).hexdigest()\n",
    "\n",
    "print(\"SHA-256 Hash:\", hashed)"
   ]
  },
  {
   "cell_type": "code",
   "execution_count": 88,
   "metadata": {},
   "outputs": [],
   "source": [
    "def generate_rsa_keys():\n",
    "    \"\"\"\n",
    "    Generates an RSA private and public key pair.\n",
    "    \"\"\"\n",
    "    private_key = rsa.generate_private_key(\n",
    "        public_exponent=65537,\n",
    "        key_size=2048,\n",
    "        backend=default_backend()\n",
    "    )\n",
    "    public_key = private_key.public_key()\n",
    "    return private_key, public_key\n",
    "\n",
    "def serialize_rsa_keys(private_key, public_key):\n",
    "    \"\"\"\n",
    "    Serializes the RSA private and public keys to PEM format.\n",
    "    \"\"\"\n",
    "    pem_private_key = private_key.private_bytes(\n",
    "        encoding=serialization.Encoding.PEM,\n",
    "        format=serialization.PrivateFormat.PKCS8,\n",
    "        encryption_algorithm=serialization.NoEncryption()  # Use BestAvailableEncryption(password) for encrypted serialization\n",
    "    )\n",
    "    \n",
    "    pem_public_key = public_key.public_bytes(\n",
    "        encoding=serialization.Encoding.PEM,\n",
    "        format=serialization.PublicFormat.SubjectPublicKeyInfo\n",
    "    )\n",
    "    \n",
    "    return pem_private_key, pem_public_key\n",
    "\n",
    "def sign_data_with_private_key(private_key, hashed):\n",
    "    \"\"\"\n",
    "    Signs data using the RSA private key.\n",
    "    \"\"\"\n",
    "    signature = private_key.sign(\n",
    "        hashed,\n",
    "        padding.PSS(\n",
    "            mgf=padding.MGF1(hashes.SHA256()),\n",
    "            salt_length=padding.PSS.MAX_LENGTH\n",
    "        ),\n",
    "        hashes.SHA256()\n",
    "    )\n",
    "    return signature\n"
   ]
  },
  {
   "cell_type": "code",
   "execution_count": 89,
   "metadata": {},
   "outputs": [],
   "source": [
    "alice_private_key, alice_public_key = generate_rsa_keys()\n",
    "\n",
    "pem_private_key, pem_public_key = serialize_rsa_keys(alice_private_key, alice_public_key)\n",
    "\n",
    "signature = sign_data_with_private_key(alice_private_key, hashed.encode())"
   ]
  },
  {
   "cell_type": "code",
   "execution_count": 90,
   "metadata": {},
   "outputs": [
    {
     "name": "stdout",
     "output_type": "stream",
     "text": [
      "{'message': '0a407794ce24d341a1d6b5f0632b48f3:1708879084:The company website has not limited the number of transactions a single user or device can perform in a given period of time. The transactions/time should be above the actual business requirement, but low enough to deter automated attacks', 'signature': b\"#\\x9adg\\x12\\xdb,9F\\x83\\xdf\\x10\\xd1\\xd3#\\xf5\\x9dj\\xe7\\xef\\xff\\xc8D\\xa3\\x8e\\xae\\xdc\\x0c\\xaaoz3\\xabNM\\x02@(\\r^\\xfdz\\xe1Fy\\x98\\xac\\xcb^LT\\xcd\\xd9\\x0e\\xec\\xbd\\xb0\\xba'\\x1ffk\\xe0|~\\xb9x\\x15\\x95\\xb5\\x85}\\xef?\\x04\\x1e\\x9e\\xb1\\xe1cn\\x16]P\\x12d\\t\\x1bbn\\xefEg<Q{\\xccn3&\\x89\\xe8\\x82\\xf5F\\xf5iu\\x9b\\xb3y\\x92\\xc4\\x1a \\x0c\\xd8\\xc5A\\x089\\xf0;{\\xd7\\xd3\\xdb\\xb2\\x9c7\\x038.\\xe0;\\xba\\xfd\\xb0\\x9e>\\x08\\xc1\\x84e\\x11?.\\xfd\\xb9\\xe6\\x9e\\xad'<\\xb3\\xf9\\xb0R\\x0e:\\xbf\\x01\\xd4\\xfa\\x1b\\x16\\xccHa\\x93\\x08T\\xe4G\\xaa\\xa7\\xf5\\xe4\\x96\\x81\\xcc\\xd0}\\xa9\\xed\\xc3p\\xd4\\xf7h \\x8e\\xec\\xd2:hl\\xe4TQ~0&,[\\x01j\\xff\\xfcI\\xc6\\xb5_\\x03vw\\t\\x89\\x94I(\\xf8\\x1d\\x14\\x00\\xf6\\x8e\\x9e\\xdf\\xe5\\xfb\\x01\\x89L\\x9cU\\x9aT\\xe6\\x9eF\\xbf\\x9d>\\x99Av\\xf1\\xad\\x99\\xb0Nv\\xa5\\xd9\\xd6\"}\n"
     ]
    }
   ],
   "source": [
    "# Prepare the message for transmission\n",
    "transmission_data = {\n",
    "    'message': combined,\n",
    "    'signature': signature,\n",
    "    # 'encrypted_message': encrypted_message,  # If you chose to encrypt\n",
    "}\n",
    "\n",
    "# Simulate sending the data by outputting it\n",
    "print(transmission_data)"
   ]
  },
  {
   "cell_type": "code",
   "execution_count": 91,
   "metadata": {},
   "outputs": [],
   "source": [
    "def verify_signature(received_message, signature, public_key):\n",
    "    \"\"\"\n",
    "    Verifies the signature of the received message using the sender's public key.\n",
    "    \"\"\"\n",
    "    try:\n",
    "        public_key.verify(\n",
    "            signature,\n",
    "            received_message,\n",
    "            padding.PSS(\n",
    "                mgf=padding.MGF1(hashes.SHA256()),\n",
    "                salt_length=padding.PSS.MAX_LENGTH\n",
    "            ),\n",
    "            hashes.SHA256()\n",
    "        )\n",
    "        return True\n",
    "    except InvalidSignature:\n",
    "        return False"
   ]
  },
  {
   "cell_type": "code",
   "execution_count": 92,
   "metadata": {},
   "outputs": [
    {
     "name": "stdout",
     "output_type": "stream",
     "text": [
      "Signature verification result: True\n"
     ]
    }
   ],
   "source": [
    "# Simulated received data that Bob recieves from Alice\n",
    "received_data = transmission_data \n",
    "\n",
    "# Verify the signature of the received message\n",
    "received_hashed_message = hashlib.sha256(received_data['message'].encode()).hexdigest()\n",
    "verification_result = verify_signature(received_hashed_message.encode(), received_data['signature'], alice_public_key)\n",
    "\n",
    "print(f\"Signature verification result: {verification_result}\")"
   ]
  },
  {
   "cell_type": "code",
   "execution_count": 93,
   "metadata": {},
   "outputs": [
    {
     "name": "stdout",
     "output_type": "stream",
     "text": [
      "Nonce: 0a407794ce24d341a1d6b5f0632b48f3\n",
      "Readable Timestamp: 2024-02-25 16:38:04\n",
      "Message: The company website has not limited the number of transactions a single user or device can perform in a given period of time. The transactions/time should be above the actual business requirement, but low enough to deter automated attacks\n"
     ]
    }
   ],
   "source": [
    "received_message = received_data['message']\n",
    "\n",
    "parts = received_message.split(':')\n",
    "nonce = parts[0]\n",
    "timestamp_str = parts[1]\n",
    "actual_message = ':'.join(parts[2:])  # Join back the rest of the message in case there are semi-colons in it\n",
    "\n",
    "# Convert the timestamp string to an integer\n",
    "timestamp = int(timestamp_str)\n",
    "\n",
    "# Convert the timestamp to a readable date format\n",
    "dt_object = datetime.fromtimestamp(timestamp)\n",
    "readable_date = dt_object.strftime('%Y-%m-%d %H:%M:%S')\n",
    "\n",
    "print(f\"Nonce: {nonce}\")\n",
    "print(f\"Readable Timestamp: {readable_date}\")\n",
    "print(f\"Message: {actual_message}\")"
   ]
  }
 ],
 "metadata": {
  "kernelspec": {
   "display_name": "Python 3",
   "language": "python",
   "name": "python3"
  },
  "language_info": {
   "codemirror_mode": {
    "name": "ipython",
    "version": 3
   },
   "file_extension": ".py",
   "mimetype": "text/x-python",
   "name": "python",
   "nbconvert_exporter": "python",
   "pygments_lexer": "ipython3",
   "version": "3.11.5"
  }
 },
 "nbformat": 4,
 "nbformat_minor": 2
}
