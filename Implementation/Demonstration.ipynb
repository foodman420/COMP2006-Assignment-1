{
 "cells": [
  {
   "cell_type": "markdown",
   "metadata": {},
   "source": [
    "## Cryptographic protocol demonstration\n",
    "#### Installing libraries\n",
    "'pip install pycryptodome'\n",
    "\n",
    "'pip install cryptography'\n",
    "\n",
    "\n",
    "This code imports libraries and modules for cryptographic operations, including hashing, RSA encryption, serialization, and time management, enabling secure data handling and encryption tasks in Python."
   ]
  },
  {
   "cell_type": "code",
   "execution_count": 105,
   "metadata": {},
   "outputs": [],
   "source": [
    "from cryptography.hazmat.primitives import hashes\n",
    "from cryptography.hazmat.primitives.asymmetric import padding, rsa\n",
    "from cryptography.hazmat.primitives import serialization\n",
    "from cryptography.hazmat.primitives.asymmetric import utils\n",
    "from cryptography.exceptions import InvalidSignature\n",
    "from cryptography.hazmat.backends import default_backend\n",
    "\n",
    "from Crypto.Cipher import PKCS1_OAEP\n",
    "\n",
    "import time\n",
    "import secrets\n",
    "import hashlib\n",
    "from datetime import datetime"
   ]
  },
  {
   "cell_type": "markdown",
   "metadata": {},
   "source": [
    "#### Preparing the message for transmission"
   ]
  },
  {
   "cell_type": "code",
   "execution_count": 106,
   "metadata": {},
   "outputs": [],
   "source": [
    "message = \"The company website has not limited the number of transactions a single user or device can perform in a given period of time. The transactions/time should be above the actual business requirement, but low enough to deter automated attacks\""
   ]
  },
  {
   "cell_type": "markdown",
   "metadata": {},
   "source": [
    "Creating timestamp using the current time in seconds in Unix format"
   ]
  },
  {
   "cell_type": "code",
   "execution_count": 107,
   "metadata": {},
   "outputs": [
    {
     "name": "stdout",
     "output_type": "stream",
     "text": [
      "Timestamp: 1710353181\n"
     ]
    }
   ],
   "source": [
    "# Creates a timestamp using the current time in seconds in Unix format\n",
    "timestamp = int(time.time())\n",
    "print(f\"Timestamp: {timestamp}\")"
   ]
  },
  {
   "cell_type": "markdown",
   "metadata": {},
   "source": [
    "Generating a nonce as a 32-character hex string"
   ]
  },
  {
   "cell_type": "code",
   "execution_count": 108,
   "metadata": {},
   "outputs": [
    {
     "name": "stdout",
     "output_type": "stream",
     "text": [
      "Nonce (hex): e3389d582c82f7329b7a0597850331a0\n"
     ]
    }
   ],
   "source": [
    "nonce_hex = secrets.token_hex(16)  \n",
    "print(f\"Nonce (hex): {nonce_hex}\")\n",
    "\n",
    "#nonce_storage = []\n",
    "\n"
   ]
  },
  {
   "cell_type": "markdown",
   "metadata": {},
   "source": [
    "Concatenating the string with a delimiter (:)"
   ]
  },
  {
   "cell_type": "code",
   "execution_count": 109,
   "metadata": {},
   "outputs": [
    {
     "name": "stdout",
     "output_type": "stream",
     "text": [
      "Combined string: e3389d582c82f7329b7a0597850331a0:1710353181:The company website has not limited the number of transactions a single user or device can perform in a given period of time. The transactions/time should be above the actual business requirement, but low enough to deter automated attacks\n"
     ]
    }
   ],
   "source": [
    "combined = f\"{nonce_hex}:{timestamp}:{message}\"\n",
    "print(\"Combined string:\", combined)"
   ]
  },
  {
   "cell_type": "markdown",
   "metadata": {},
   "source": [
    "Encoding the combined string to bytes, then hashing it using SHA-256"
   ]
  },
  {
   "cell_type": "code",
   "execution_count": 110,
   "metadata": {},
   "outputs": [
    {
     "name": "stdout",
     "output_type": "stream",
     "text": [
      "SHA-256 Hash: cb087ff7dc0915e93ccbb1b80c8ebd3ff72a6bebe9d5035ebf4c85448ce5cb26\n"
     ]
    }
   ],
   "source": [
    "hashed = hashlib.sha256(combined.encode()).hexdigest()\n",
    "\n",
    "print(\"SHA-256 Hash:\", hashed)"
   ]
  },
  {
   "cell_type": "markdown",
   "metadata": {},
   "source": [
    "This function generates an RSA private and public key pair.\n",
    "The public_exponent is set to 65537, which is a common choice for RSA encryption as it's a prime number that ensures efficiency and security in the encryption process.\n",
    "The key size of 2048 bits is selected to provide a good balance between security and performance, ensuring it is sufficiently secure for most applications.\n",
    "    \n",
    "The function returns a tuple containing the RSA private key and public key.\n"
   ]
  },
  {
   "cell_type": "code",
   "execution_count": 111,
   "metadata": {},
   "outputs": [],
   "source": [
    "def generate_rsa_keys():\n",
    "    \n",
    "    private_key = rsa.generate_private_key(\n",
    "        public_exponent=65537,  \n",
    "        key_size=2048,         \n",
    "        backend=default_backend()\n",
    "    )\n",
    "\n",
    "    public_key = private_key.public_key()\n",
    "    \n",
    "    return private_key, public_key"
   ]
  },
  {
   "cell_type": "markdown",
   "metadata": {},
   "source": [
    "   \n",
    "This function serializes the RSA private and public keys to PEM format for storage or transmission. PEM format is used. This is a Base64 encoded message with header and footer to mark the beginning\n",
    "and end of the key material which makes it suitable for text-based transmission.\n",
    "    \n",
    "Arguments:\n",
    "\n",
    "private_key: The RSA private key to be serialized.\n",
    "\n",
    "public_key: The RSA public key to be serialized.\n",
    "    \n",
    "The function then returns a tuple containing the serialized private and public keys in PEM format.\n",
    " "
   ]
  },
  {
   "cell_type": "code",
   "execution_count": 112,
   "metadata": {},
   "outputs": [],
   "source": [
    "def serialize_rsa_keys(private_key, public_key):\n",
    "\n",
    "    pem_private_key = private_key.private_bytes(\n",
    "        encoding=serialization.Encoding.PEM,\n",
    "        format=serialization.PrivateFormat.PKCS8,\n",
    "        encryption_algorithm=serialization.NoEncryption()  # Indicates no encryption\n",
    "    )\n",
    "    \n",
    "    pem_public_key = public_key.public_bytes(\n",
    "        encoding=serialization.Encoding.PEM,\n",
    "        format=serialization.PublicFormat.SubjectPublicKeyInfo\n",
    "    )\n",
    "    \n",
    "    return pem_private_key, pem_public_key"
   ]
  },
  {
   "cell_type": "markdown",
   "metadata": {},
   "source": [
    "This function is used sign hashed data using the RSA private key.\n",
    "    \n",
    "It uses PSS (Probabilistic Signature Scheme) padding, which is recommended\n",
    "for new applications due to its security properties. The SHA-256 hash function is used\n",
    "for hashing the data, providing a strong level of integrity.\n",
    "    \n",
    "Arguments:\n",
    "\n",
    "private_key: The RSA private key used for signing.\n",
    "\n",
    "hashed: The hashed data which is to be signed\n",
    "    \n",
    "The function then returns the digital signature of the hashed data.\n"
   ]
  },
  {
   "cell_type": "code",
   "execution_count": 113,
   "metadata": {},
   "outputs": [],
   "source": [
    "def sign_data_with_private_key(private_key, hashed):\n",
    "   \n",
    "\n",
    "    signature = private_key.sign(\n",
    "        hashed,\n",
    "        padding.PSS(\n",
    "            mgf=padding.MGF1(hashes.SHA256()),  # Mask Generation Function\n",
    "            salt_length=padding.PSS.MAX_LENGTH  # Maximum salt length\n",
    "        ),\n",
    "        hashes.SHA256()  # Hash function for signing\n",
    "    )\n",
    "    \n",
    "    return signature"
   ]
  },
  {
   "cell_type": "markdown",
   "metadata": {},
   "source": [
    "This code then uses the functions to generate a pair of RSA keys for Alice, it serializes these keys into the PEM format for storage or transmission, and then signs a hashed message using Alice's private key to create a digital signature."
   ]
  },
  {
   "cell_type": "code",
   "execution_count": 114,
   "metadata": {},
   "outputs": [],
   "source": [
    "alice_private_key, alice_public_key = generate_rsa_keys()\n",
    "\n",
    "pem_private_key, pem_public_key = serialize_rsa_keys(alice_private_key, alice_public_key)\n",
    "\n",
    "signature = sign_data_with_private_key(alice_private_key, hashed.encode())"
   ]
  },
  {
   "cell_type": "markdown",
   "metadata": {},
   "source": [
    "The data is then prepared for transmission by combining the original message string (M:T:N) and the digital signiture into a signal string. The string is printed to simulate Bob transmitting it."
   ]
  },
  {
   "cell_type": "code",
   "execution_count": 115,
   "metadata": {},
   "outputs": [
    {
     "name": "stdout",
     "output_type": "stream",
     "text": [
      "{'message': 'e3389d582c82f7329b7a0597850331a0:1710353181:The company website has not limited the number of transactions a single user or device can perform in a given period of time. The transactions/time should be above the actual business requirement, but low enough to deter automated attacks', 'signature': b'\\x0c\\xea\\'\\xee\\xb6\\xee\\x03Z\\x13X\\xafD~y\\xee\\xcf|T\\x06\\xda\\xc3qOMs\\xfa\\xea\\xd3\\xf0\\x01\\x12\\xf1<\\'\\x81\\xc55\\xab9;\\xd4\\t\\x99\\xfe_#WR\\xe1\\x87NE\\x8f\\xb8\\x1c\\x15\\xfd\\x06ev\\xb3\\xe8\\xcdx\\xb0<\\xde\\xeae\\xeb_\\x1d\\xc4\\xb5UQl2\\x1bE\\xc7\\x97\\xc6\\xda\\xe6=\\x1b\\x1a\\xf0\\xab\\x00T\\x17L^\\xf1\\x9f*)[\\xbd\\xf7\\xdb\\x12\\x15\\xfe\\x93M\\xe5-\\xfe\\x8d\\xda\\xcf\\xb8_\\x91\\xd0\\xb5\\xcc\\xb1\\x83\\x99\\xa6\\xe6U\\xcd~\\\\\\x81\\xecG\\x81\\xbf~\\x16\\x91\\xa7sy\\xeb\\xe5^\\x1d\\xbf\\x8f`vR\\x8e<u\\x98\\xc8\"N\\xa7\\xf1\\xb5\\xb12.\\x93\\x1d\\xe6\\x7f\\x8ay\\xecg\\x05\\x9d\\x1e\\x10\\xe5\\xc1\\xa6\\xaa\\x15\\xea~(\\xef\\r\\x17#f\\xbd.\\xf5\\xaa\\xed\\xf5-g!\\xa8\\x1cP\\xce\\xdd\\xa3\\xe0\\x90\\xb4#%a_\\xab\\xb9\\xc6\\xc6\\xbc\\xad-@~Q\\x8f\\xab\\x12\\xd03P\\xbc\\xf8\\\\\\xdd\\t\\x9c\\xe4\\xb2\\x08\\x8bb\\xa8\\xeeF\\xf7\\x87\\x82\\x9f@%\\xdby\\x1e\\x97s\\xd7\\x02~\\x84\\x8e\\x8e'}\n"
     ]
    }
   ],
   "source": [
    "\n",
    "transmission_data = {\n",
    "    'message': combined,\n",
    "    'signature': signature,\n",
    "}\n",
    "\n",
    "print(transmission_data)"
   ]
  },
  {
   "cell_type": "markdown",
   "metadata": {},
   "source": [
    "#### Recieving the message"
   ]
  },
  {
   "cell_type": "markdown",
   "metadata": {},
   "source": [
    "This function is used to verify the digital signiture of the recieved message using the prevously exchanged public key from Alice. This is done by decrypting the digital signiture using the public key to return a hash value. Bob then hashes the recieved message string and compares the two hashes.\n",
    "If the hashes are identical then the function returns true such that the message hasn't been tampered with.\n",
    "The function return false with an InvalidSigniture if these values are not matching."
   ]
  },
  {
   "cell_type": "code",
   "execution_count": 116,
   "metadata": {},
   "outputs": [],
   "source": [
    "def verify_signature(received_message, signature, public_key):\n",
    "    try:\n",
    "        public_key.verify(\n",
    "            signature,\n",
    "            received_message,\n",
    "            padding.PSS(\n",
    "                mgf=padding.MGF1(hashes.SHA256()),\n",
    "                salt_length=padding.PSS.MAX_LENGTH\n",
    "            ),\n",
    "            hashes.SHA256()\n",
    "        )\n",
    "        return True\n",
    "    except InvalidSignature:\n",
    "        return False"
   ]
  },
  {
   "cell_type": "markdown",
   "metadata": {},
   "source": [
    "This function checks the timestamp against the current time and determines if it is within the window of 300 seconds."
   ]
  },
  {
   "cell_type": "code",
   "execution_count": 117,
   "metadata": {},
   "outputs": [],
   "source": [
    "def is_within_time_window(received_timestamp, window=300):\n",
    "    current_time = int(time.time())\n",
    "    return current_time - received_timestamp <= window"
   ]
  },
  {
   "cell_type": "markdown",
   "metadata": {},
   "source": [
    "This function is used to check if the nonce if unique, in order to counter against the reusing of nonces. Bob's previously recieved nonces are stored in a list, 'nonce_storage' and the the recieved nonce is comapred to this list to see if it has been used prior. If the nonce is not present in the list then the verification returns true otherwise it returns false."
   ]
  },
  {
   "cell_type": "code",
   "execution_count": 118,
   "metadata": {},
   "outputs": [],
   "source": [
    "def is_nonce_unique(nonce, nonce_storage):\n",
    "    if nonce not in nonce_storage:\n",
    "        nonce_storage.append(nonce)\n",
    "        return True\n",
    "    return False"
   ]
  },
  {
   "cell_type": "markdown",
   "metadata": {},
   "source": [
    "\n",
    "This code simulates Bob verifying a message received from Alice. Using the previously described functions, it checks the message's signature for authenticity, confirms the timestamp is current, and ensures the nonce is unique to prevent replay attacks. Results of these verifications are printed out."
   ]
  },
  {
   "cell_type": "code",
   "execution_count": 119,
   "metadata": {},
   "outputs": [
    {
     "name": "stdout",
     "output_type": "stream",
     "text": [
      "Signature verification result: True\n",
      "Timestamp verification result: True\n",
      "Nonce verification result: True\n"
     ]
    }
   ],
   "source": [
    "# Simulated received data that Bob recieves from Alice\n",
    "received_data = transmission_data \n",
    "\n",
    "# Verify the signature of the received message\n",
    "received_hashed_message = hashlib.sha256(received_data['message'].encode()).hexdigest()\n",
    "verification_result = verify_signature(received_hashed_message.encode(), received_data['signature'], alice_public_key)\n",
    "\n",
    "# Extract the timestamp from the received message\n",
    "received_message = received_data['message']\n",
    "nonce, received_timestamp_str, _ = received_message.split(':', 2)\n",
    "received_timestamp = int(received_timestamp_str)\n",
    "\n",
    "# Check if the received timestamp is within the allowed window\n",
    "timestamp_verification_result = is_within_time_window(received_timestamp)\n",
    "\n",
    "#Extract the nonce from the received message\n",
    "nonce = received_data['message'].split(':', 1)[0] \n",
    "# Check if the nonce is unique\n",
    "nonce_verification_result = is_nonce_unique(nonce, nonce_storage)\n",
    "\n",
    "print(f\"Signature verification result: {verification_result}\")\n",
    "print(f\"Timestamp verification result: {timestamp_verification_result}\")\n",
    "print(f\"Nonce verification result: {nonce_verification_result}\")\n",
    "\n",
    "\n",
    "\n",
    "\n"
   ]
  },
  {
   "cell_type": "markdown",
   "metadata": {},
   "source": [
    "This code then extracts and processes parts of a received message: it retrieves the nonce, timestamp, and the actual message content. It converts the timestamp from a string to an integer, then formats it into a human-readable date. Depending on previously obtained verification results, it either confirms the message's authenticity, uniqueness, and timeliness, or it indicates the specific reason for verification failure related to the signature, timestamp, or nonce."
   ]
  },
  {
   "cell_type": "code",
   "execution_count": 120,
   "metadata": {},
   "outputs": [
    {
     "name": "stdout",
     "output_type": "stream",
     "text": [
      "The message is authentic, unique, and within the time window.\n",
      "Nonce: e3389d582c82f7329b7a0597850331a0\n",
      "Readable Timestamp: 2024-03-13 18:06:21\n",
      "Message: The company website has not limited the number of transactions a single user or device can perform in a given period of time. The transactions/time should be above the actual business requirement, but low enough to deter automated attacks\n"
     ]
    }
   ],
   "source": [
    "received_message = received_data['message']\n",
    "\n",
    "parts = received_message.split(':')\n",
    "nonce = parts[0]\n",
    "timestamp_str = parts[1]\n",
    "actual_message = ':'.join(parts[2:])\n",
    "\n",
    "\n",
    "timestamp = int(timestamp_str)\n",
    "\n",
    "\n",
    "dt_object = datetime.fromtimestamp(timestamp)\n",
    "readable_date = dt_object.strftime('%Y-%m-%d %H:%M:%S')\n",
    "\n",
    "if verification_result:\n",
    "    if timestamp_verification_result:\n",
    "        if nonce_verification_result:\n",
    "            print(\"The message is authentic, unique, and within the time window.\")\n",
    "            print(f\"Nonce: {nonce}\")\n",
    "            print(f\"Readable Timestamp: {readable_date}\")\n",
    "            print(f\"Message: {actual_message}\")\n",
    "        else:\n",
    "            print(\"The message failed verification: The nonce has already been used.\")\n",
    "    else:\n",
    "        print(\"The message failed verification: The timestamp is outside the acceptable window.\")\n",
    "else:\n",
    "    print(\"The message failed verification: The digital signature does not match.\")\n"
   ]
  },
  {
   "cell_type": "code",
   "execution_count": 121,
   "metadata": {},
   "outputs": [
    {
     "name": "stdout",
     "output_type": "stream",
     "text": [
      "['ed3d3e3583885411124ea68693d890a1', 'fe29c2912135cdc8ac8fd344a43e10f0', 'e7d4cce4793a96299b788f2c67bc5dd7', 'e3389d582c82f7329b7a0597850331a0']\n"
     ]
    }
   ],
   "source": [
    "print(f\"{nonce_storage}\")"
   ]
  }
 ],
 "metadata": {
  "kernelspec": {
   "display_name": "Python 3",
   "language": "python",
   "name": "python3"
  },
  "language_info": {
   "codemirror_mode": {
    "name": "ipython",
    "version": 3
   },
   "file_extension": ".py",
   "mimetype": "text/x-python",
   "name": "python",
   "nbconvert_exporter": "python",
   "pygments_lexer": "ipython3",
   "version": "3.11.5"
  }
 },
 "nbformat": 4,
 "nbformat_minor": 2
}
